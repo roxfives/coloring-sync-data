{
 "cells": [
  {
   "cell_type": "code",
   "execution_count": 6,
   "metadata": {},
   "outputs": [],
   "source": [
    "import os\n",
    "import json\n",
    "\n",
    "filename = \"raw-data.json\"\n",
    "\n",
    "abs_path = os.path.abspath(os.path.dirname(\"__file__\"))\n",
    "file_path = os.path.join(abs_path, filename)\n",
    "\n",
    "defaultCode = \"2000453\""
   ]
  },
  {
   "cell_type": "code",
   "execution_count": 7,
   "metadata": {},
   "outputs": [],
   "source": [
    "file = {}\n",
    "with open(file_path, \"r\") as f:\n",
    "    file = json.load(f)"
   ]
  },
  {
   "cell_type": "code",
   "execution_count": 8,
   "metadata": {},
   "outputs": [],
   "source": [
    "def dw_code_zeiss(coloring):\n",
    "    if \"inteira\" in coloring[\"type\"].lower():\n",
    "        return \"2677615\"\n",
    "    elif \"degrad\" in coloring[\"type\"].lower():\n",
    "        return \"2677616\"\n",
    "    else:\n",
    "        return defaultCode\n",
    "    \n",
    "def dw_code_essilor(coloring):\n",
    "    return defaultCode\n",
    "\n",
    "def dw_code_hoya(coloring):\n",
    "    return \"3500018\"\n",
    "\n",
    "def dw_code_haytek(coloring):\n",
    "    return defaultCode\n",
    "\n",
    "def dw_code_own(coloring):\n",
    "    return \"2000611\"\n",
    "    \n",
    "    "
   ]
  },
  {
   "cell_type": "code",
   "execution_count": 10,
   "metadata": {},
   "outputs": [],
   "source": [
    "ID_KEY = \"id\"\n",
    "COLORING_KEY = \"coloring\"\n",
    "DW_KEY = \"dw_code\"\n",
    "\n",
    "def build_coloring_sync(id, coloring):\n",
    "    sync_data = {}\n",
    "\n",
    "    sync_data[DW_KEY] = id\n",
    "    sync_data[COLORING_KEY] = \"{} {} {}\".format(coloring[\"supplier\"], coloring[\"brand\"], coloring[\"design\"])\n",
    "\n",
    "    if coloring[\"supplier\"].lower() == \"zeiss\":\n",
    "        sync_data[DW_KEY] = dw_code_zeiss(coloring)\n",
    "    elif coloring[\"supplier\"].lower() == \"essilor\":\n",
    "        sync_data[DW_KEY] = dw_code_essilor(coloring)\n",
    "    elif coloring[\"supplier\"].lower() == \"hoya\":\n",
    "        sync_data[DW_KEY] = dw_code_hoya(coloring)\n",
    "    elif coloring[\"supplier\"].lower() == \"haytek\":\n",
    "        sync_data[DW_KEY] = dw_code_haytek(coloring)\n",
    "    elif \"diniz\" in coloring[\"supplier\"].lower():\n",
    "        sync_data[DW_KEY] = dw_code_own(coloring)\n",
    "    else:\n",
    "        sync_data[DW_KEY] = defaultCode\n",
    "\n",
    "    return sync_data\n",
    "\n",
    "coloring_data = []\n",
    "for key, value in file.items():\n",
    "    coloring_data.append(build_coloring_sync(key, value))\n",
    "\n",
    "with open(\"coloring-data.json\", \"w\") as f:\n",
    "    json.dump(coloring_data, f, sort_keys=True, indent=4)"
   ]
  },
  {
   "cell_type": "code",
   "execution_count": null,
   "metadata": {},
   "outputs": [],
   "source": [
    "# Path: sync-data.ipynb"
   ]
  }
 ],
 "metadata": {
  "kernelspec": {
   "display_name": "venv",
   "language": "python",
   "name": "python3"
  },
  "language_info": {
   "codemirror_mode": {
    "name": "ipython",
    "version": 3
   },
   "file_extension": ".py",
   "mimetype": "text/x-python",
   "name": "python",
   "nbconvert_exporter": "python",
   "pygments_lexer": "ipython3",
   "version": "3.8.10"
  },
  "orig_nbformat": 4
 },
 "nbformat": 4,
 "nbformat_minor": 2
}
